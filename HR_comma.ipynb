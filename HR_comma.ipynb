{
 "cells": [
  {
   "cell_type": "code",
   "execution_count": 4,
   "metadata": {},
   "outputs": [],
   "source": [
    "import torch\n",
    "import torch.nn as nn\n",
    "import matplotlib.pyplot as plt\n",
    "import pandas as pd \n",
    "import numpy as np\n",
    "from sklearn.model_selection import train_test_split"
   ]
  },
  {
   "cell_type": "code",
   "execution_count": 5,
   "metadata": {},
   "outputs": [],
   "source": [
    "data = pd.read_csv('./dataset/HR_comma_sep.csv')\n",
    "data['salary'] = data['salary'].map({'low':0, 'medium':1, 'high':2})\n",
    "data['sales'] = data['sales'].map({'sales':0, 'accounting':1, 'hr':2, 'technical':3, 'support':4, 'management':5, 'IT':6, 'product_mng':7, 'marketing':8, 'RandD':9})\n",
    "data['left'] = data['left'].map({0: 0, 1: 1})\n",
    "\n",
    "# 将数据集分成训练集和测试集\n",
    "train_data, test_data, train_label, test_label = train_test_split(data.drop(['left'], axis=1).values, data['left'].values, test_size=0.2)\n",
    "\n",
    "# 将训练集和测试集转换为PyTorch张量\n",
    "train_data = torch.tensor(train_data).float()\n",
    "test_data = torch.tensor(test_data).float()\n",
    "train_label = torch.tensor(train_label).long()\n",
    "test_label = torch.tensor(test_label).long()"
   ]
  },
  {
   "cell_type": "code",
   "execution_count": 6,
   "metadata": {},
   "outputs": [],
   "source": [
    "class Net(nn.Module):\n",
    "    def __init__(self):\n",
    "        super(Net, self).__init__()\n",
    "        self.fc1 = nn.Linear(9, 10)\n",
    "        self.fc2 = nn.Linear(10, 10)\n",
    "        self.fc3 = nn.Linear(10, 1)\n",
    "        self.relu = nn.ReLU()\n",
    "    \n",
    "    def forward(self, x):\n",
    "        x = self.relu(self.fc1(x))\n",
    "        x = self.relu(self.fc2(x))\n",
    "        return self.fc3(x)\n",
    "\n",
    "net = Net()\n",
    "loss_func = nn.MSELoss()\n",
    "optimizer = torch.optim.Adam(net.parameters(), lr=0.01)"
   ]
  },
  {
   "cell_type": "code",
   "execution_count": 7,
   "metadata": {},
   "outputs": [
    {
     "name": "stdout",
     "output_type": "stream",
     "text": [
      "Epoch[100/7500], loss: 0.178273\n",
      "Epoch[200/7500], loss: 0.176674\n",
      "Epoch[300/7500], loss: 0.174797\n",
      "Epoch[400/7500], loss: 0.172584\n",
      "Epoch[500/7500], loss: 0.170027\n",
      "Epoch[600/7500], loss: 0.167195\n",
      "Epoch[700/7500], loss: 0.164305\n",
      "Epoch[800/7500], loss: 0.161635\n",
      "Epoch[900/7500], loss: 0.159263\n",
      "Epoch[1000/7500], loss: 0.157012\n",
      "Epoch[1100/7500], loss: 0.154695\n",
      "Epoch[1200/7500], loss: 0.152275\n",
      "Epoch[1300/7500], loss: 0.149862\n",
      "Epoch[1400/7500], loss: 0.147671\n",
      "Epoch[1500/7500], loss: 0.145930\n",
      "Epoch[1600/7500], loss: 0.144741\n",
      "Epoch[1700/7500], loss: 0.144037\n",
      "Epoch[1800/7500], loss: 0.143668\n",
      "Epoch[1900/7500], loss: 0.143494\n",
      "Epoch[2000/7500], loss: 0.143418\n",
      "Epoch[2100/7500], loss: 0.143388\n",
      "Epoch[2200/7500], loss: 0.143376\n",
      "Epoch[2300/7500], loss: 0.143372\n",
      "Epoch[2400/7500], loss: 0.143370\n",
      "Epoch[2500/7500], loss: 0.143369\n",
      "Epoch[2600/7500], loss: 0.143368\n",
      "Epoch[2700/7500], loss: 0.143368\n",
      "Epoch[2800/7500], loss: 0.143367\n",
      "Epoch[2900/7500], loss: 0.143367\n",
      "Epoch[3000/7500], loss: 0.143364\n",
      "Epoch[3100/7500], loss: 0.143358\n",
      "Epoch[3200/7500], loss: 0.143354\n",
      "Epoch[3300/7500], loss: 0.143348\n",
      "Epoch[3400/7500], loss: 0.143328\n",
      "Epoch[3500/7500], loss: 0.143293\n",
      "Epoch[3600/7500], loss: 0.143234\n",
      "Epoch[3700/7500], loss: 0.143108\n",
      "Epoch[3800/7500], loss: 0.142890\n",
      "Epoch[3900/7500], loss: 0.142735\n",
      "Epoch[4000/7500], loss: 0.141857\n",
      "Epoch[4100/7500], loss: 0.141574\n",
      "Epoch[4200/7500], loss: 0.141438\n",
      "Epoch[4300/7500], loss: 0.140706\n",
      "Epoch[4400/7500], loss: 0.140231\n",
      "Epoch[4500/7500], loss: 0.139877\n",
      "Epoch[4600/7500], loss: 0.139692\n",
      "Epoch[4700/7500], loss: 0.139959\n",
      "Epoch[4800/7500], loss: 0.139346\n",
      "Epoch[4900/7500], loss: 0.139323\n",
      "Epoch[5000/7500], loss: 0.139778\n",
      "Epoch[5100/7500], loss: 0.136920\n",
      "Epoch[5200/7500], loss: 0.180807\n",
      "Epoch[5300/7500], loss: 0.180710\n",
      "Epoch[5400/7500], loss: 0.180710\n",
      "Epoch[5500/7500], loss: 0.180710\n",
      "Epoch[5600/7500], loss: 0.180710\n",
      "Epoch[5700/7500], loss: 0.180710\n",
      "Epoch[5800/7500], loss: 0.180710\n",
      "Epoch[5900/7500], loss: 0.180710\n",
      "Epoch[6000/7500], loss: 0.180710\n",
      "Epoch[6100/7500], loss: 0.180710\n",
      "Epoch[6200/7500], loss: 0.180710\n",
      "Epoch[6300/7500], loss: 0.180710\n",
      "Epoch[6400/7500], loss: 0.180710\n",
      "Epoch[6500/7500], loss: 0.180710\n",
      "Epoch[6600/7500], loss: 0.180710\n",
      "Epoch[6700/7500], loss: 0.180710\n",
      "Epoch[6800/7500], loss: 0.180710\n",
      "Epoch[6900/7500], loss: 0.180710\n",
      "Epoch[7000/7500], loss: 0.180710\n",
      "Epoch[7100/7500], loss: 0.180710\n",
      "Epoch[7200/7500], loss: 0.180710\n",
      "Epoch[7300/7500], loss: 0.180710\n",
      "Epoch[7400/7500], loss: 0.180710\n",
      "Epoch[7500/7500], loss: 0.180710\n"
     ]
    }
   ],
   "source": [
    "# 训练模型\n",
    "losses = []\n",
    "epoch = 7500\n",
    "for i in range(epoch):\n",
    "    out = net(train_data)\n",
    "    loss = loss_func(out, train_label.float().unsqueeze(1))\n",
    "    losses.append(loss.item())\n",
    "    optimizer.zero_grad()\n",
    "\n",
    "    loss.backward()\n",
    "    optimizer.step()\n",
    "    if (i+1) % 100 == 0:\n",
    "        print('Epoch[{}/{}], loss: {:.6f}'.format(i+1, epoch, loss.item()))\n",
    "\n"
   ]
  },
  {
   "cell_type": "code",
   "execution_count": 8,
   "metadata": {},
   "outputs": [
    {
     "data": {
      "image/png": "[encoded data removed]",
      "text/plain": [
       "<Figure size 640x480 with 1 Axes>"
      ]
     },
     "metadata": {},
     "output_type": "display_data"
    }
   ],
   "source": [
    "# 保存模型\n",
    "torch.save(net.state_dict(), './model/HR_comma.pth')\n",
    "\n",
    "# 画出损失函数曲线\n",
    "plt.plot(np.arange(epoch), losses)\n",
    "plt.xlabel('epoch')\n",
    "plt.ylabel('loss')\n",
    "plt.show()"
   ]
  },
  {
   "cell_type": "code",
   "execution_count": 9,
   "metadata": {},
   "outputs": [
    {
     "name": "stdout",
     "output_type": "stream",
     "text": [
      "Accuracy of the network on the test data: 75.66666666666667 %\n"
     ]
    }
   ],
   "source": [
    "# 导入训练好的模型模型预测left的值，并与原始值进行比较，计算准确率\n",
    "net = Net()\n",
    "net.load_state_dict(torch.load('./model/HR_comma.pth'))\n",
    "outputs = net(test_data)\n",
    "_, predicted = torch.max(outputs, 1)\n",
    "print('Accuracy of the network on the test data: {} %'.format((test_label == predicted.squeeze()).sum().item() / test_label.size(0) * 100))\n"
   ]
  },
  {
   "cell_type": "code",
   "execution_count": 10,
   "metadata": {},
   "outputs": [
    {
     "name": "stdout",
     "output_type": "stream",
     "text": [
      "The employee is likely to stay in the company.\n"
     ]
    }
   ],
   "source": [
    "net = Net()\n",
    "net.load_state_dict(torch.load('./model/HR_comma.pth'))\n",
    "\n",
    "# 准备新的数据\n",
    "new_data = torch.tensor([0.68,0.85,3,243,4,0,0,3,1]) # 假设这是一个新的向量\n",
    "\n",
    "# 进行预测\n",
    "net.eval()\n",
    "with torch.no_grad():\n",
    "    output = net(new_data)\n",
    "    _, predicted = torch.max(output, 0)\n",
    "\n",
    "# 解释预测结果\n",
    "if predicted == 0:\n",
    "    print('The employee is likely to stay in the company.')\n",
    "else:\n",
    "    print('The employee is likely to leave the company.')"
   ]
  },
  {
   "cell_type": "markdown",
   "metadata": {},
   "source": []
  }
 ],
 "metadata": {
  "kernelspec": {
   "display_name": "dl",
   "language": "python",
   "name": "python3"
  },
  "language_info": {
   "codemirror_mode": {
    "name": "ipython",
    "version": 3
   },
   "file_extension": ".py",
   "mimetype": "text/x-python",
   "name": "python",
   "nbconvert_exporter": "python",
   "pygments_lexer": "ipython3",
   "version": "3.10.8"
  },
  "orig_nbformat": 4
 },
 "nbformat": 4,
 "nbformat_minor": 2
}
