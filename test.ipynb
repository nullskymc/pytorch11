{
 "cells": [
  {
   "cell_type": "code",
   "execution_count": 49,
   "id": "59f2c87c",
   "metadata": {
    "ExecuteTime": {
     "end_time": "2024-03-17T08:42:07.088962Z",
     "start_time": "2024-03-17T08:42:05.380822Z"
    }
   },
   "outputs": [],
   "source": [
    "import torch \n",
    "import torch.nn as nn\n",
    "import numpy as np\n",
    "import matplotlib.pyplot as plt\n",
    "import pandas as pd\n"
   ]
  },
  {
   "cell_type": "code",
   "execution_count": 50,
   "id": "ef268707",
   "metadata": {
    "ExecuteTime": {
     "end_time": "2024-03-17T08:43:16.662738Z",
     "start_time": "2024-03-17T08:43:16.644633Z"
    }
   },
   "outputs": [
    {
     "name": "stdout",
     "output_type": "stream",
     "text": [
      "   satisfaction_level  last_evaluation  number_project  average_montly_hours  \\\n",
      "0                0.38             0.53               2                   157   \n",
      "1                0.80             0.86               5                   262   \n",
      "2                0.11             0.88               7                   272   \n",
      "3                0.72             0.87               5                   223   \n",
      "4                0.37             0.52               2                   159   \n",
      "\n",
      "   time_spend_company  Work_accident  left  promotion_last_5years  sales  \\\n",
      "0                   3              0     1                      0  sales   \n",
      "1                   6              0     1                      0  sales   \n",
      "2                   4              0     1                      0  sales   \n",
      "3                   5              0     1                      0  sales   \n",
      "4                   3              0     1                      0  sales   \n",
      "\n",
      "   salary  \n",
      "0     low  \n",
      "1  medium  \n",
      "2  medium  \n",
      "3     low  \n",
      "4     low  \n"
     ]
    }
   ],
   "source": [
    "# 加载数据\n",
    "df = pd.read_csv('HR_comma_sep.csv')\n",
    "\n",
    "# 显示数据\n",
    "print(df.head())\n",
    "level = df['satisfaction_level']\n",
    "evaluation = df['last_evaluation']\n",
    "project = df['number_project']\n",
    "average_monthly_hours = df['average_montly_hours']\n",
    "time_spend_company = df['time_spend_company']\n",
    "work_accident = df['Work_accident']\n",
    "left = df['left']\n",
    "promotion = df['promotion_last_5years']\n",
    "department = df['sales']\n",
    "salary = df['salary']\n",
    "\n"
   ]
  },
  {
   "cell_type": "code",
   "execution_count": 51,
   "id": "af5f10b5",
   "metadata": {},
   "outputs": [],
   "source": [
    "## 数据预处理\n",
    "\n",
    "### 将sales转换为数字\n",
    "department = df['sales'].map({'sales': 1, 'accounting': 2, 'hr': 3, 'technical': 4, 'support': 5, 'management': 6, 'IT': 7, 'product_mng': 8, 'marketing': 9, 'RandD': 10})\n",
    "salary = df['salary'].map({'low': 1, 'medium': 2, 'high': 3})\n",
    "\n",
    "X_tensors = torch.tensor([level, evaluation, project, average_monthly_hours, time_spend_company, work_accident, promotion, department, salary], dtype=torch.float32).T\n",
    "Y_tensors = torch.tensor(left, dtype=torch.float32).view(-1, 1)\n"
   ]
  },
  {
   "cell_type": "code",
   "execution_count": 52,
   "id": "ac525335",
   "metadata": {
    "ExecuteTime": {
     "end_time": "2024-03-17T08:43:18.575309Z",
     "start_time": "2024-03-17T08:43:18.571579Z"
    }
   },
   "outputs": [],
   "source": [
    "##定义模型\n",
    "class linear(nn.Module):\n",
    "    def __init__(self, input_size):\n",
    "        super(linear, self).__init__()\n",
    "        self.linear = nn.Linear(input_size, 1)\n",
    "\n",
    "    def forward(self, x):\n",
    "        return self.linear(x)"
   ]
  },
  {
   "cell_type": "code",
   "execution_count": 53,
   "id": "7f22e18d",
   "metadata": {
    "ExecuteTime": {
     "end_time": "2024-03-17T08:43:19.160698Z",
     "start_time": "2024-03-17T08:43:19.156491Z"
    }
   },
   "outputs": [],
   "source": [
    "import torch.optim as optim\n",
    "\n",
    "model = linear(input_size=9)\n",
    "\n",
    "#定义损失函数\n",
    "criterion = nn.MSELoss()\n",
    "\n",
    "#定义优化器\n",
    "optimizer = optim.SGD(model.parameters(), lr=0.00001) #学习率"
   ]
  },
  {
   "cell_type": "code",
   "execution_count": 59,
   "id": "bda1e145",
   "metadata": {
    "ExecuteTime": {
     "end_time": "2024-03-17T08:43:20.816790Z",
     "start_time": "2024-03-17T08:43:19.701808Z"
    }
   },
   "outputs": [
    {
     "name": "stdout",
     "output_type": "stream",
     "text": [
      "Epoch [1000/100000], Loss: 0.2484\n",
      "Epoch [2000/100000], Loss: 0.2448\n",
      "Epoch [3000/100000], Loss: 0.2414\n",
      "Epoch [4000/100000], Loss: 0.2384\n",
      "Epoch [5000/100000], Loss: 0.2356\n",
      "Epoch [6000/100000], Loss: 0.2331\n",
      "Epoch [7000/100000], Loss: 0.2307\n",
      "Epoch [8000/100000], Loss: 0.2285\n",
      "Epoch [9000/100000], Loss: 0.2265\n",
      "Epoch [10000/100000], Loss: 0.2247\n",
      "Epoch [11000/100000], Loss: 0.2229\n",
      "Epoch [12000/100000], Loss: 0.2213\n",
      "Epoch [13000/100000], Loss: 0.2198\n",
      "Epoch [14000/100000], Loss: 0.2184\n",
      "Epoch [15000/100000], Loss: 0.2171\n",
      "Epoch [16000/100000], Loss: 0.2159\n",
      "Epoch [17000/100000], Loss: 0.2147\n",
      "Epoch [18000/100000], Loss: 0.2136\n",
      "Epoch [19000/100000], Loss: 0.2126\n",
      "Epoch [20000/100000], Loss: 0.2116\n",
      "Epoch [21000/100000], Loss: 0.2107\n",
      "Epoch [22000/100000], Loss: 0.2098\n",
      "Epoch [23000/100000], Loss: 0.2089\n",
      "Epoch [24000/100000], Loss: 0.2081\n",
      "Epoch [25000/100000], Loss: 0.2074\n",
      "Epoch [26000/100000], Loss: 0.2067\n",
      "Epoch [27000/100000], Loss: 0.2059\n",
      "Epoch [28000/100000], Loss: 0.2053\n",
      "Epoch [29000/100000], Loss: 0.2046\n",
      "Epoch [30000/100000], Loss: 0.2040\n",
      "Epoch [31000/100000], Loss: 0.2034\n",
      "Epoch [32000/100000], Loss: 0.2028\n",
      "Epoch [33000/100000], Loss: 0.2023\n",
      "Epoch [34000/100000], Loss: 0.2017\n",
      "Epoch [35000/100000], Loss: 0.2012\n",
      "Epoch [36000/100000], Loss: 0.2007\n",
      "Epoch [37000/100000], Loss: 0.2002\n",
      "Epoch [38000/100000], Loss: 0.1997\n",
      "Epoch [39000/100000], Loss: 0.1992\n",
      "Epoch [40000/100000], Loss: 0.1988\n",
      "Epoch [41000/100000], Loss: 0.1983\n",
      "Epoch [42000/100000], Loss: 0.1979\n",
      "Epoch [43000/100000], Loss: 0.1974\n",
      "Epoch [44000/100000], Loss: 0.1970\n",
      "Epoch [45000/100000], Loss: 0.1966\n",
      "Epoch [46000/100000], Loss: 0.1962\n",
      "Epoch [47000/100000], Loss: 0.1958\n",
      "Epoch [48000/100000], Loss: 0.1954\n",
      "Epoch [49000/100000], Loss: 0.1951\n",
      "Epoch [50000/100000], Loss: 0.1947\n",
      "Epoch [51000/100000], Loss: 0.1943\n",
      "Epoch [52000/100000], Loss: 0.1940\n",
      "Epoch [53000/100000], Loss: 0.1936\n",
      "Epoch [54000/100000], Loss: 0.1933\n",
      "Epoch [55000/100000], Loss: 0.1930\n",
      "Epoch [56000/100000], Loss: 0.1926\n",
      "Epoch [57000/100000], Loss: 0.1923\n",
      "Epoch [58000/100000], Loss: 0.1920\n",
      "Epoch [59000/100000], Loss: 0.1917\n",
      "Epoch [60000/100000], Loss: 0.1914\n",
      "Epoch [61000/100000], Loss: 0.1911\n",
      "Epoch [62000/100000], Loss: 0.1908\n",
      "Epoch [63000/100000], Loss: 0.1905\n",
      "Epoch [64000/100000], Loss: 0.1902\n",
      "Epoch [65000/100000], Loss: 0.1899\n",
      "Epoch [66000/100000], Loss: 0.1896\n",
      "Epoch [67000/100000], Loss: 0.1893\n",
      "Epoch [68000/100000], Loss: 0.1891\n",
      "Epoch [69000/100000], Loss: 0.1888\n",
      "Epoch [70000/100000], Loss: 0.1885\n",
      "Epoch [71000/100000], Loss: 0.1883\n",
      "Epoch [72000/100000], Loss: 0.1880\n",
      "Epoch [73000/100000], Loss: 0.1878\n",
      "Epoch [74000/100000], Loss: 0.1875\n",
      "Epoch [75000/100000], Loss: 0.1873\n",
      "Epoch [76000/100000], Loss: 0.1870\n",
      "Epoch [77000/100000], Loss: 0.1868\n",
      "Epoch [78000/100000], Loss: 0.1866\n",
      "Epoch [79000/100000], Loss: 0.1863\n",
      "Epoch [80000/100000], Loss: 0.1861\n",
      "Epoch [81000/100000], Loss: 0.1859\n",
      "Epoch [82000/100000], Loss: 0.1857\n",
      "Epoch [83000/100000], Loss: 0.1855\n",
      "Epoch [84000/100000], Loss: 0.1852\n",
      "Epoch [85000/100000], Loss: 0.1850\n",
      "Epoch [86000/100000], Loss: 0.1848\n",
      "Epoch [87000/100000], Loss: 0.1846\n",
      "Epoch [88000/100000], Loss: 0.1844\n",
      "Epoch [89000/100000], Loss: 0.1842\n",
      "Epoch [90000/100000], Loss: 0.1840\n",
      "Epoch [91000/100000], Loss: 0.1838\n",
      "Epoch [92000/100000], Loss: 0.1836\n",
      "Epoch [93000/100000], Loss: 0.1834\n",
      "Epoch [94000/100000], Loss: 0.1833\n",
      "Epoch [95000/100000], Loss: 0.1831\n",
      "Epoch [96000/100000], Loss: 0.1829\n",
      "Epoch [97000/100000], Loss: 0.1827\n",
      "Epoch [98000/100000], Loss: 0.1825\n",
      "Epoch [99000/100000], Loss: 0.1824\n",
      "Epoch [100000/100000], Loss: 0.1822\n"
     ]
    }
   ],
   "source": [
    "device = torch.device('cuda')\n",
    "\n",
    "# 将模型移动到GPU\n",
    "model = model.to(device)\n",
    "\n",
    "# 将数据移动到GPU\n",
    "X_tensors = X_tensors.to(device)\n",
    "y_tensor = y_tensor.to(device)\n",
    "\n",
    "## 训练\n",
    "num_epochs = 10000\n",
    "losses = []\n",
    "for epoch in range(num_epochs):\n",
    "    outputs = model(X_tensors).squeeze()\n",
    "    loss = criterion(outputs, y_tensor.squeeze()) #修整矩阵维度\n",
    "    \n",
    "    optimizer.zero_grad()\n",
    "    loss.backward() # 反向传播\n",
    "    optimizer.step()\n",
    "    losses.append(loss.item())\n",
    "    if (epoch+1) % 1000 == 0:\n",
    "        print(f'Epoch [{epoch+1}/{num_epochs}], Loss: {loss.item():.4f}')"
   ]
  },
  {
   "cell_type": "code",
   "execution_count": 60,
   "id": "3e4910bc",
   "metadata": {},
   "outputs": [
    {
     "name": "stdout",
     "output_type": "stream",
     "text": [
      "预测离职: 0.1564018428325653\n"
     ]
    }
   ],
   "source": [
    "#输入分别为 [satisfaction_level, last_evaluation, number_project, average_montly_hours, time_spend_company, Work_accident, promotion_last_5years, sales, salary]\n",
    "new_house_features = torch.tensor([0.38,0.53,2,157,3,0,0,1,1]).cuda()\n",
    "\n",
    "with torch.no_grad():\n",
    "    predicted_price = model(new_house_features).squeeze().item()\n",
    "    print(\"预测离职:\", predicted_price)\n"
   ]
  },
  {
   "cell_type": "code",
   "execution_count": 56,
   "id": "6bc599c0",
   "metadata": {},
   "outputs": [
    {
     "data": {
      "image/png": "[encoded data removed]",
      "text/plain": [
       "<Figure size 640x480 with 1 Axes>"
      ]
     },
     "metadata": {},
     "output_type": "display_data"
    }
   ],
   "source": [
    "plt.plot(losses)\n",
    "plt.xlabel('Epoch')\n",
    "plt.ylabel('Loss')\n",
    "plt.show()"
   ]
  }
 ],
 "metadata": {
  "kernelspec": {
   "display_name": "Python 3",
   "language": "python",
   "name": "python3"
  },
  "language_info": {
   "codemirror_mode": {
    "name": "ipython",
    "version": 3
   },
   "file_extension": ".py",
   "mimetype": "text/x-python",
   "name": "python",
   "nbconvert_exporter": "python",
   "pygments_lexer": "ipython3",
   "version": "3.10.12"
  }
 },
 "nbformat": 4,
 "nbformat_minor": 5
}
