{
 "cells": [
  {
   "attachments": {},
   "cell_type": "markdown",
   "metadata": {},
   "source": [
    "### Download the dataset about Mnist"
   ]
  },
  {
   "attachments": {},
   "cell_type": "markdown",
   "metadata": {},
   "source": [
    "#### 导入相关包"
   ]
  },
  {
   "cell_type": "code",
   "execution_count": 18,
   "metadata": {},
   "outputs": [],
   "source": [
    "import torch\n",
    "from torch import nn\n",
    "from torch.autograd.variable import Variable\n",
    "\n",
    "import torchvision\n",
    "import torchvision.transforms as transforms"
   ]
  },
  {
   "cell_type": "code",
   "execution_count": 19,
   "metadata": {},
   "outputs": [],
   "source": [
    "# Preprocess\n",
    "transform = transforms.Compose(\n",
    "    [\n",
    "        transforms.ToTensor(),\n",
    "        transforms.Normalize((0.5,), (0.5,))\n",
    "    ]\n",
    ")"
   ]
  },
  {
   "cell_type": "code",
   "execution_count": 20,
   "metadata": {},
   "outputs": [],
   "source": [
    "# Training data\n",
    "train_set = torchvision.datasets.MNIST(\n",
    "    root='.', train=True, download=True, transform=transform\n",
    ")\n",
    "train_loader = torch.utils.data.DataLoader(\n",
    "    train_set, batch_size=32, shuffle=True\n",
    ")"
   ]
  },
  {
   "attachments": {},
   "cell_type": "markdown",
   "metadata": {},
   "source": [
    "判别器部分。 判别器网络是对图像真实与否进行分类。  \n",
    "输入：28×28像素 -> 一个长度为784的向量  \n",
    "输出：一个单独的值<表示图像是否是实际的MNIST数字>  "
   ]
  },
  {
   "cell_type": "code",
   "execution_count": 21,
   "metadata": {},
   "outputs": [],
   "source": [
    "# Our Discriminator classes\n",
    "class Discriminator(nn.Module):\n",
    "    def __init__(self):\n",
    "        super().__init__()\n",
    "        self.model = nn.Sequential(\n",
    "            nn.Linear(784, 1024),\n",
    "            nn.ReLU(inplace=True),\n",
    "            nn.Dropout(0.3),\n",
    "            nn.Linear(1024, 512),\n",
    "            nn.ReLU(inplace=True),\n",
    "            nn.Dropout(0.3),\n",
    "            nn.Linear(512, 256),\n",
    "            nn.ReLU(inplace=True),\n",
    "            nn.Dropout(0.3),\n",
    "            nn.Linear(256, 1),\n",
    "            nn.Sigmoid()\n",
    "        )\n",
    "\n",
    "    def forward(self, x):\n",
    "        out = self.model(x.view(x.size(0), 784))\n",
    "        out = out.view(out.size(0), -1)\n",
    "        return out.cuda()\n",
    "\n",
    "discriminator = Discriminator()"
   ]
  },
  {
   "attachments": {},
   "cell_type": "markdown",
   "metadata": {},
   "source": [
    "生成器部分。 生成器网络负责创建实际的图像。  \n",
    "输入：一个长度为100的向量<纯随机噪声>  \n",
    "输出：一个长度为784的向量 -> 28×28像素  "
   ]
  },
  {
   "cell_type": "code",
   "execution_count": 22,
   "metadata": {},
   "outputs": [],
   "source": [
    "# Our Generator class\n",
    "class Generator(nn.Module):\n",
    "    def __init__(self):\n",
    "        super().__init__()\n",
    "        self.model = nn.Sequential(\n",
    "            nn.Linear(100, 256),\n",
    "            nn.ReLU(inplace=True),\n",
    "            nn.Linear(256, 512),\n",
    "            nn.ReLU(inplace=True),\n",
    "            nn.Linear(512, 1024),\n",
    "            nn.ReLU(inplace=True),\n",
    "            nn.Linear(1024, 784),\n",
    "            nn.Tanh()\n",
    "        )\n",
    "\n",
    "    def forward(self, x):\n",
    "        x = x.view(x.size(0), 100)\n",
    "        out = self.model(x)\n",
    "        return out\n",
    "\n",
    "generator = Generator()"
   ]
  },
  {
   "attachments": {},
   "cell_type": "markdown",
   "metadata": {},
   "source": [
    "把模型移动到GPU上"
   ]
  },
  {
   "cell_type": "code",
   "execution_count": 23,
   "metadata": {},
   "outputs": [
    {
     "name": "stdout",
     "output_type": "stream",
     "text": [
      "Using CUDA\n"
     ]
    }
   ],
   "source": [
    "# If we have a GPU with CUDA, use it\n",
    "if torch.cuda.is_available():\n",
    "    print(\"Using CUDA\")\n",
    "    discriminator.cuda()\n",
    "    generator.cuda()\n",
    "\n",
    "# Setup loss function and optimizers\n",
    "lr = 0.01\n",
    "num_epochs = 40\n",
    "num_batches = len(train_loader)\n",
    "\n",
    "criterion = nn.BCELoss()\n",
    "d_optimizer = torch.optim.Adam(discriminator.parameters(), lr=lr)\n",
    "g_optimizer = torch.optim.Adam(generator.parameters(), lr=lr)"
   ]
  },
  {
   "attachments": {},
   "cell_type": "markdown",
   "metadata": {},
   "source": [
    "开始训练循环。\n",
    "训练GAN的关键是我们需要在一个循环中更新生成器和判别器。"
   ]
  },
  {
   "cell_type": "code",
   "execution_count": 24,
   "metadata": {},
   "outputs": [],
   "source": [
    "# Convenience function for training our Discriminator\n",
    "def train_discriminator(discriminator, real_images, real_labels, fake_images, fake_labels):\n",
    "    discriminator.zero_grad()\n",
    "\n",
    "    # Get the predictions, loss, and score of the real images\n",
    "    predictions = discriminator(real_images)\n",
    "    real_loss = criterion(predictions, real_labels)\n",
    "    real_score = predictions\n",
    "\n",
    "    # Get the predictions, loss, and score of the fake images\n",
    "    predictions = discriminator(fake_images)\n",
    "    fake_loss = criterion(predictions, fake_labels)\n",
    "    fake_score = predictions\n",
    "\n",
    "    # Calculate the total loss, update the weights, and update the optimizer\n",
    "    d_loss = real_loss + fake_loss\n",
    "    d_loss.backward()\n",
    "    d_optimizer.step()\n",
    "    return d_loss, real_score, fake_score"
   ]
  },
  {
   "cell_type": "code",
   "execution_count": 25,
   "metadata": {},
   "outputs": [],
   "source": [
    "# Convenience function for training our Generator\n",
    "def train_generator(generator, discriminator_outputs, real_labels):\n",
    "    generator.zero_grad()\n",
    "\n",
    "    # Calculate the total loss, update the weights, and update the optimizer\n",
    "    g_loss = criterion(discriminator_outputs, real_labels)\n",
    "    g_loss.backward()\n",
    "    g_optimizer.step()\n",
    "    return g_loss"
   ]
  },
  {
   "cell_type": "code",
   "execution_count": 26,
   "metadata": {},
   "outputs": [],
   "source": [
    "for epoch in range(num_epochs):\n",
    "    for n, (images, _) in enumerate(train_loader):\n",
    "        # (1) Prepare the real data for the Discriminator\n",
    "        real_images = Variable(images).cuda()\n",
    "        real_labels = Variable(torch.ones(images.size(0))).reshape([32, 1]).cuda()\n",
    "\n",
    "        # (2) Prepare the random noise data for the Generator\n",
    "        noise = Variable(torch.randn(images.size(0), 100)).cuda()\n",
    "\n",
    "        # (3) Prepare the fake data for the Discriminator\n",
    "        fake_images = generator(noise)\n",
    "        fake_labels = Variable(torch.zeros(images.size(0))).reshape([32, 1]).cuda()\n",
    "\n",
    "        # (4) Train the discriminator on real and fake data\n",
    "        d_loss, real_score, fake_score = train_discriminator(\n",
    "            discriminator,\n",
    "            real_images, real_labels,\n",
    "            fake_images, fake_labels\n",
    "        )\n",
    "\n",
    "        # (5a) Generate some new fake images from the Generator.\n",
    "        # (5b) Get the label predictions of the Discriminator on that fake data.\n",
    "        noise = Variable(torch.randn(images.size(0), 100)).cuda()\n",
    "        fake_images = generator(noise)\n",
    "\n",
    "        outputs = discriminator(fake_images)\n",
    "\n",
    "        # (6) Train the generator\n",
    "        g_loss = train_generator(generator, outputs, real_labels)\n",
    "\n",
    "# Save the model\n",
    "torch.save(generator.state_dict(), 'generator.pth')\n",
    "torch.save(discriminator.state_dict(), 'discriminator.pth')"
   ]
  },
  {
   "cell_type": "code",
   "execution_count": 30,
   "metadata": {},
   "outputs": [],
   "source": [
    "#推理\n",
    "import torch\n",
    "from torch.autograd.variable import Variable\n",
    "from torchvision.utils import save_image\n",
    "\n",
    "# Load the model\n",
    "\n",
    "generator = Generator()\n",
    "generator.load_state_dict(torch.load('generator.pth'))\n",
    "generator.eval()\n",
    "generator.cuda()\n",
    "\n",
    "# Generate some random noise\n",
    "noise = Variable(torch.randn(32, 100)).cuda()\n",
    "\n",
    "# Generate the images\n",
    "fake_images = generator(noise)\n",
    "\n",
    "# Save the images\n",
    "save_image(fake_images.data.view(32, 1, 28, 28), 'fake_images.png')\n",
    "\n",
    "\n"
   ]
  }
 ],
 "metadata": {
  "kernelspec": {
   "display_name": "dl",
   "language": "python",
   "name": "python3"
  },
  "language_info": {
   "codemirror_mode": {
    "name": "ipython",
    "version": 3
   },
   "file_extension": ".py",
   "mimetype": "text/x-python",
   "name": "python",
   "nbconvert_exporter": "python",
   "pygments_lexer": "ipython3",
   "version": "3.10.11"
  },
  "orig_nbformat": 4
 },
 "nbformat": 4,
 "nbformat_minor": 2
}
