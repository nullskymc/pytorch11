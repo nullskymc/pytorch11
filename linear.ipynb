{
 "cells": [
  {
   "cell_type": "code",
   "execution_count": null,
   "metadata": {},
   "outputs": [],
   "source": [
    "import torch\n",
    "import matplotlib.pyplot as plt"
   ]
  },
  {
   "cell_type": "code",
   "execution_count": null,
   "metadata": {},
   "outputs": [],
   "source": [
    "train_data = torch.tensor([[0.98], [1.98], [3.02], [3.99], [5.01]], requires_grad=True)\n",
    "train_label = torch.tensor([[2.04], [4.03], [5.98], [8.01], [10.1]], requires_grad=True)\n",
    "test_data = torch.tensor([[4.0]], requires_grad=True)\n",
    "test_label = torch.tensor([[9.0]], requires_grad=True)\n",
    "w = torch.tensor([1.0], requires_grad=True)\n",
    "b = torch.tensor([0.0], requires_grad=True)\n",
    "iter = 100\n",
    "step = 0.01"
   ]
  },
  {
   "cell_type": "code",
   "execution_count": null,
   "metadata": {},
   "outputs": [],
   "source": [
    "def fx(x):\n",
    "    return w * x + b"
   ]
  },
  {
   "cell_type": "code",
   "execution_count": null,
   "metadata": {},
   "outputs": [],
   "source": [
    "def loss(x, y):\n",
    "    return (fx(x) - y) ** 2"
   ]
  },
  {
   "cell_type": "code",
   "execution_count": null,
   "metadata": {},
   "outputs": [],
   "source": [
    "for i in range(iter):\n",
    "    for x, y in zip(train_data, train_label):\n",
    "        l = loss(x, y)\n",
    "        l.backward()\n",
    "        with torch.no_grad():\n",
    "            w -= step * w.grad\n",
    "            b -= step * b.grad\n",
    "        w.grad.zero_()\n",
    "        b.grad.zero_()\n",
    "    print('epoch: {}, loss: {}'.format(i, loss(test_data, test_label).item()))"
   ]
  },
  {
   "cell_type": "code",
   "execution_count": null,
   "metadata": {},
   "outputs": [],
   "source": [
    "print('w: {}, b: {}'.format(w.item(), b.item()))"
   ]
  },
  {
   "cell_type": "code",
   "execution_count": null,
   "metadata": {},
   "outputs": [],
   "source": [
    "#画出wx+b的图像\n",
    "plt.scatter(train_data.detach().numpy(), train_label.detach().numpy())\n",
    "plt.plot(train_data.detach().numpy(), fx(train_data).detach().numpy())\n",
    "plt.show()"
   ]
  }
 ],
 "metadata": {
  "kernelspec": {
   "display_name": "dl",
   "language": "python",
   "name": "python3"
  },
  "language_info": {
   "codemirror_mode": {
    "name": "ipython",
    "version": 3
   },
   "file_extension": ".py",
   "mimetype": "text/x-python",
   "name": "python",
   "nbconvert_exporter": "python",
   "pygments_lexer": "ipython3",
   "version": "3.10.11"
  },
  "orig_nbformat": 4
 },
 "nbformat": 4,
 "nbformat_minor": 2
}
